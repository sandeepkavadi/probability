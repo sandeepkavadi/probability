{
 "cells": [
  {
   "cell_type": "code",
   "execution_count": 1,
   "id": "77fec8d5",
   "metadata": {},
   "outputs": [],
   "source": [
    "import pandas as pd\n",
    "import numpy as np\n",
    "import random"
   ]
  },
  {
   "cell_type": "markdown",
   "id": "3fbb6a86",
   "metadata": {},
   "source": [
    "### Simulating defaults in a Lending Portfolio\n",
    "\n",
    "#### Key characteristics of a loan\n",
    "A typical installment loan has the following three key characteristics:\n",
    "1. Loan Amount\n",
    "2. APR \n",
    "3. Term"
   ]
  }
 ],
 "metadata": {
  "kernelspec": {
   "display_name": "Python 3 (ipykernel)",
   "language": "python",
   "name": "python3"
  },
  "language_info": {
   "codemirror_mode": {
    "name": "ipython",
    "version": 3
   },
   "file_extension": ".py",
   "mimetype": "text/x-python",
   "name": "python",
   "nbconvert_exporter": "python",
   "pygments_lexer": "ipython3",
   "version": "3.9.7"
  }
 },
 "nbformat": 4,
 "nbformat_minor": 5
}
